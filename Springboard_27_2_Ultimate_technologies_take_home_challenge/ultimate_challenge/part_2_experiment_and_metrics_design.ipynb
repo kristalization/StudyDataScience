{
 "cells": [
  {
   "cell_type": "markdown",
   "metadata": {},
   "source": [
    "### Part 2 ‑ Experiment and metrics design<br>\n",
    "\n",
    "The neighboring cities of Gotham and Metropolis have complementary circadian rhythms: on\n",
    "weekdays, Ultimate Gotham is most active at night, and Ultimate Metropolis is most active\n",
    "during the day. On weekends, there is reasonable activity in both cities. <br> \n",
    "However, a toll bridge, with a two way toll, between the two cities causes driver partners to tend\n",
    "to be exclusive to each city. The Ultimate managers of city operations for the two cities have\n",
    "proposed an experiment to encourage driver partners to be available in both cities, by\n",
    "reimbursing all toll costs. <br>\n",
    "1. What would you choose as the key measure of success of this experiment in encouraging driver partners to serve both cities, and why would you choose this metric? <br><br>\n",
    "\n",
    "Ans : One very obvious metric is to see if the offer to reimburse toll costs is being used by the drivers. If so how much. It is also important to divide the group of drivers into two groups. Group A being drivers who are comfortable providing long distance service and Group B whose average distance per service is smaller in comparision. Once divided, few in the group A can be targeted with the offer and few in the group B can be targetted the offer and measure if there is a significant difference in the offer being of any value to the drivers and are they using it. Hypothetically, group A is more likely to utilize the offer as they don't mind long distance services. But if group B got encouraged to do more long distance service, then we would be able to see a significant improvement in their average distance per service. Also the customer's signup city and city in which most services have been provided in the past would be different. If the percentage of customers from a different city increases, that can also be used as a metric.\n",
    "\n",
    "2. Describe a practical experiment you would design to compare the effectiveness of the proposed change in relation to the key measure of success. Please provide details on: <br>\n",
    "    a. how you will implement the experiment <br><br>\n",
    "    Ans : The detailed explanation provided as answer to the question 1.\n",
    "    b. what statistical test(s) you will conduct to verify the significance of the observation <br><br>\n",
    "    Ans : A/B Hypothesis testing and setting a significant p-value would do. The measure is to see if the rise in trips across the toll is signifcant enough to be accounted as an effect of the newly introduced offer or was it just by random chance. <br><br>\n",
    "    Gotham Drivers -> <Group A , Group B><group a having high avg distance per service, group a having low avg distance per service><br>\n",
    "    Metropolis Drivers -> <Group A, Group B><group a having high avg distance per service, group a having low avg distance per service><br><br>\n",
    "    \n",
    "    Gotham Drivers -> <Group A, Group B> -> <<Within Gotham percentage, Metropolis percentage >,< Within Gotham percentage, Metropolis percentage >><br>\n",
    "    Metropolis Drivers -> <Group A, Group B> -> <<Within Metropolis percentage, Gotham percentage >,< Within Metropolis percentage, Gotham percentage >><br><br>\n",
    "    \n",
    "    In Both above cases it would be expected to see a rise in the opposite city percentage and a fall in same city percentage for group A. But if we are able to see atleast 50% of group A's change in group B then we can claim that the experiment is successful. Here 50% of group A's change is the p-value. Crossing a strict threshold like this can't be random. But a more relaxed measure can also be implemented.\n",
    "    \n",
    "    c. how you would interpret the results and provide recommendations to the city operations team along with any caveats. <br><br>\n",
    "    Ans : Metropolis is active during the day and Gotham is more active during the night. Toll reimbursement would encourage the drivers to utilize the demand in both the cities. Its possible that Metropolis drivers may start their first service of the day at a later time of the day, like in the afternoon or evening and try to utilize the demand in the other Gotham as well. Which may end up reducing the availability if drivers in Metropolis earlier in the day. Similar pattern may be observed in Gotham to Metropolis as well. Gotham drivers may end up being least active afternoon to evening getting a shut eye and then trying to utilize both rush hours. The offers must be carefully alloted to the drivers and how their driving pattern is changing needs to be monitored."
   ]
  },
  {
   "cell_type": "code",
   "execution_count": null,
   "metadata": {},
   "outputs": [],
   "source": []
  }
 ],
 "metadata": {
  "kernelspec": {
   "display_name": "Python 3",
   "language": "python",
   "name": "python3"
  },
  "language_info": {
   "codemirror_mode": {
    "name": "ipython",
    "version": 3
   },
   "file_extension": ".py",
   "mimetype": "text/x-python",
   "name": "python",
   "nbconvert_exporter": "python",
   "pygments_lexer": "ipython3",
   "version": "3.7.9"
  }
 },
 "nbformat": 4,
 "nbformat_minor": 4
}
