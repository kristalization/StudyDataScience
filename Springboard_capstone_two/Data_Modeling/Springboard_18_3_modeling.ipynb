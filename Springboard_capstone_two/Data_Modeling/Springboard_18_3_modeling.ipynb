{
 "cells": [
  {
   "cell_type": "code",
   "execution_count": 90,
   "metadata": {},
   "outputs": [],
   "source": [
    "import pandas as pd\n",
    "import numpy as np\n",
    "import os\n",
    "from sklearn.preprocessing import StandardScaler\n",
    "import warnings\n",
    "warnings.filterwarnings('ignore')\n",
    "from matplotlib import pyplot as plt\n",
    "\n",
    "from sklearn.model_selection import train_test_split\n",
    "from sklearn.linear_model import LogisticRegression\n",
    "from sklearn.metrics import accuracy_score, confusion_matrix, classification_report, roc_curve, auc\n",
    "from sklearn.model_selection import GridSearchCV\n",
    "\n",
    "from sklearn.model_selection import cross_val_score\n",
    "from sklearn.tree import DecisionTreeClassifier\n",
    "from sklearn import metrics\n",
    "\n",
    "from sklearn.naive_bayes import GaussianNB\n",
    "from sklearn.linear_model import SGDClassifier\n",
    "from sklearn.neighbors import KNeighborsClassifier\n",
    "from sklearn.ensemble import RandomForestClassifier, VotingClassifier"
   ]
  },
  {
   "cell_type": "code",
   "execution_count": 91,
   "metadata": {},
   "outputs": [
    {
     "data": {
      "text/plain": [
       "array([[ 1.53307493,  0.02695841, -0.67334608, ..., -0.34102424,\n",
       "         0.39974677, -0.18645954],\n",
       "       [ 1.62899827, -0.44395837, -0.67334608, ..., -0.34102424,\n",
       "         0.39974677, -0.18645954],\n",
       "       [-0.28946853, -0.12020309, -0.67334608, ..., -0.34102424,\n",
       "         0.39974677, -0.18645954],\n",
       "       ...,\n",
       "       [ 1.53307493, -0.27577381, -0.19880218, ..., -0.34102424,\n",
       "         0.39974677, -0.18645954],\n",
       "       [ 0.38199485,  0.78799356, -0.67334608, ..., -0.34102424,\n",
       "         0.39974677, -0.18645954],\n",
       "       [ 3.25969505, -0.0655431 ,  0.27574172, ...,  2.93234286,\n",
       "        -2.50158369, -0.18645954]])"
      ]
     },
     "execution_count": 91,
     "metadata": {},
     "output_type": "execute_result"
    }
   ],
   "source": [
    "bank_one_hot_data = pd.read_csv(os.getcwd()+'\\\\One_hot_encoded.csv')\n",
    "X = bank_one_hot_data.drop(columns=['y_yes','Unnamed: 0'])\n",
    "y = bank_one_hot_data['y_yes']\n",
    "ssc = StandardScaler(with_mean=True,with_std=True)\n",
    "ssc.fit_transform(X)"
   ]
  },
  {
   "cell_type": "code",
   "execution_count": 92,
   "metadata": {},
   "outputs": [
    {
     "data": {
      "text/plain": [
       "Index(['age', 'duration', 'campaign', 'previous', 'emp.var.rate',\n",
       "       'cons.price.idx', 'cons.conf.idx', 'euribor3m', 'nr.employed',\n",
       "       'job_admin', 'job_bluecollar', 'job_entrepreneur', 'job_housemaid',\n",
       "       'job_management', 'job_retired', 'job_selfemployed', 'job_services',\n",
       "       'job_student', 'job_technician', 'job_unemployed', 'marital_divorced',\n",
       "       'marital_married', 'marital_single', 'education_basic',\n",
       "       'education_highschool', 'education_illiterate',\n",
       "       'education_professionalcourse', 'education_universitydegree',\n",
       "       'housing_no', 'housing_yes', 'loan_no', 'loan_yes', 'month_apr',\n",
       "       'month_aug', 'month_dec', 'month_jul', 'month_jun', 'month_mar',\n",
       "       'month_may', 'month_nov', 'month_oct', 'month_sep', 'day_of_week_fri',\n",
       "       'day_of_week_mon', 'day_of_week_thu', 'day_of_week_tue',\n",
       "       'day_of_week_wed', 'poutcome_failure', 'poutcome_nonexistent',\n",
       "       'poutcome_success'],\n",
       "      dtype='object')"
      ]
     },
     "execution_count": 92,
     "metadata": {},
     "output_type": "execute_result"
    }
   ],
   "source": [
    "X.columns"
   ]
  },
  {
   "cell_type": "code",
   "execution_count": 93,
   "metadata": {},
   "outputs": [],
   "source": [
    "x_train, x_test, y_train, y_test = train_test_split(X,y,test_size=0.2,random_state=42)\n"
   ]
  },
  {
   "cell_type": "markdown",
   "metadata": {},
   "source": [
    "Logistic Regression"
   ]
  },
  {
   "cell_type": "code",
   "execution_count": 94,
   "metadata": {},
   "outputs": [
    {
     "name": "stdout",
     "output_type": "stream",
     "text": [
      "Accuracy Score : 0.912324\n",
      "Best: 0.908369 using {'C': 100}\n",
      "mean_test_score : [0.90518087 0.90784795 0.90554874 0.90784795 0.9083691 ]\n",
      "std_test_Score : [0.0022034  0.00255826 0.00391438 0.00141948 0.00213142]\n",
      "params: [{'C': 0.001}, {'C': 0.1}, {'C': 1}, {'C': 10}, {'C': 100}]\n"
     ]
    }
   ],
   "source": [
    "log = LogisticRegression()\n",
    "log.fit(x_train,y_train)\n",
    "y_pred = log.predict(x_test)\n",
    "print('Accuracy Score : %f' % (accuracy_score(y_pred, y_test)))\n",
    "parameters = {'C':[0.001, 0.1, 1, 10, 100]}\n",
    "log_gsmodel = GridSearchCV(estimator=log, param_grid = parameters)\n",
    "log_gsmodel_result = log_gsmodel.fit(x_train,y_train)\n",
    "print(\"Best: %f using %s\" % (log_gsmodel_result.best_score_, log_gsmodel_result.best_params_))\n",
    "print('mean_test_score : %s' % (log_gsmodel_result.cv_results_['mean_test_score']))\n",
    "print('std_test_Score : %s' % (log_gsmodel_result.cv_results_['std_test_score']))\n",
    "print('params: %s' %(log_gsmodel_result.cv_results_['params']))"
   ]
  },
  {
   "cell_type": "markdown",
   "metadata": {},
   "source": [
    "Decision Tree Classifier<br>\n",
    "<br>\n",
    "Entropy"
   ]
  },
  {
   "cell_type": "code",
   "execution_count": 95,
   "metadata": {},
   "outputs": [
    {
     "data": {
      "text/plain": [
       "array([0, 0, 0, ..., 0, 1, 0], dtype=int64)"
      ]
     },
     "execution_count": 95,
     "metadata": {},
     "output_type": "execute_result"
    }
   ],
   "source": [
    "ds_tree_entropy = DecisionTreeClassifier(criterion='entropy',random_state=42)\n",
    "ds_tree_entropy.fit(x_train,y_train)\n",
    "ds_tree_entropy_y_pred = ds_tree_entropy.predict(x_test)\n",
    "ds_tree_entropy_y_pred"
   ]
  },
  {
   "cell_type": "code",
   "execution_count": 96,
   "metadata": {},
   "outputs": [
    {
     "name": "stdout",
     "output_type": "stream",
     "text": [
      "Model Entropy - no max depth\n",
      "Accuracy: 0.8897608828939301\n",
      "Balanced accuracy: 0.7267138225271417\n",
      "Precision score for \"Yes\" 0.490343347639485\n",
      "Precision score for \"No\" 0.9412986293783746\n",
      "Recall score for \"Yes\" 0.5187287173666288\n",
      "Recall score for \"No\" 0.9346989276876546\n"
     ]
    }
   ],
   "source": [
    "print(\"Model Entropy - no max depth\")\n",
    "print(\"Accuracy:\", metrics.accuracy_score(y_test,ds_tree_entropy_y_pred))\n",
    "print(\"Balanced accuracy:\", metrics.balanced_accuracy_score(y_test,ds_tree_entropy_y_pred))\n",
    "print('Precision score for \"Yes\"' , metrics.precision_score(y_test,ds_tree_entropy_y_pred, pos_label = 1))\n",
    "print('Precision score for \"No\"' , metrics.precision_score(y_test,ds_tree_entropy_y_pred, pos_label = 0))\n",
    "print('Recall score for \"Yes\"' , metrics.recall_score(y_test,ds_tree_entropy_y_pred, pos_label = 1))\n",
    "print('Recall score for \"No\"' , metrics.recall_score(y_test,ds_tree_entropy_y_pred, pos_label = 0))"
   ]
  },
  {
   "cell_type": "markdown",
   "metadata": {},
   "source": [
    "### Decision Tree - Entropy - GridSearch <br>"
   ]
  },
  {
   "cell_type": "code",
   "execution_count": 97,
   "metadata": {},
   "outputs": [
    {
     "name": "stdout",
     "output_type": "stream",
     "text": [
      "Best: 0.913611 using {'max_depth': 5}\n",
      "mean_test_score : [0.90177805 0.90058246 0.9111588  0.91361128 0.91361128 0.91198651]\n",
      "std_test_Score : [0.00158525 0.00175196 0.00190117 0.00103325 0.00147213 0.00099053]\n",
      "params: [{'max_depth': 2}, {'max_depth': 3}, {'max_depth': 4}, {'max_depth': 5}, {'max_depth': 6}, {'max_depth': 7}]\n"
     ]
    }
   ],
   "source": [
    "entr_parameters = {'max_depth':[2,3,4,5,6,7]}\n",
    "dt_entr_gsmodel = GridSearchCV(estimator=ds_tree_entropy, param_grid = entr_parameters)\n",
    "dt_entr_gsmodel_result = dt_entr_gsmodel.fit(x_train,y_train)\n",
    "print(\"Best: %f using %s\" % (dt_entr_gsmodel_result.best_score_, dt_entr_gsmodel_result.best_params_))\n",
    "print('mean_test_score : %s' % (dt_entr_gsmodel_result.cv_results_['mean_test_score']))\n",
    "print('std_test_Score : %s' % (dt_entr_gsmodel_result.cv_results_['std_test_score']))\n",
    "print('params: %s' %(dt_entr_gsmodel_result.cv_results_['params']))"
   ]
  },
  {
   "cell_type": "markdown",
   "metadata": {},
   "source": [
    "Decision Tree<br><br>\n",
    "Gini"
   ]
  },
  {
   "cell_type": "code",
   "execution_count": 98,
   "metadata": {},
   "outputs": [
    {
     "name": "stdout",
     "output_type": "stream",
     "text": [
      "Model Entropy - no max depth\n",
      "Accuracy: 0.8884120171673819\n",
      "Balanced accuracy: 0.7254589059286929\n",
      "Precision score for \"Yes\" 0.48459086078639746\n",
      "Precision score for \"No\" 0.9410867757138897\n",
      "Recall score for \"Yes\" 0.5175936435868331\n",
      "Recall score for \"No\" 0.9333241682705526\n"
     ]
    }
   ],
   "source": [
    "ds_tree_gini = DecisionTreeClassifier(criterion='gini',random_state=42)\n",
    "ds_tree_gini.fit(x_train,y_train)\n",
    "ds_tree_gini_y_pred = ds_tree_gini.predict(x_test)\n",
    "print(\"Model Entropy - no max depth\")\n",
    "print(\"Accuracy:\", metrics.accuracy_score(y_test,ds_tree_gini_y_pred))\n",
    "print(\"Balanced accuracy:\", metrics.balanced_accuracy_score(y_test,ds_tree_gini_y_pred))\n",
    "print('Precision score for \"Yes\"' , metrics.precision_score(y_test,ds_tree_gini_y_pred, pos_label = 1))\n",
    "print('Precision score for \"No\"' , metrics.precision_score(y_test,ds_tree_gini_y_pred, pos_label = 0))\n",
    "print('Recall score for \"Yes\"' , metrics.recall_score(y_test,ds_tree_gini_y_pred, pos_label = 1))\n",
    "print('Recall score for \"No\"' , metrics.recall_score(y_test,ds_tree_gini_y_pred, pos_label = 0))"
   ]
  },
  {
   "cell_type": "markdown",
   "metadata": {},
   "source": [
    "### Decision Tree - Gini - GridSearch<br>"
   ]
  },
  {
   "cell_type": "code",
   "execution_count": 99,
   "metadata": {},
   "outputs": [
    {
     "name": "stdout",
     "output_type": "stream",
     "text": [
      "Best: 0.913305 using {'max_depth': 5}\n",
      "mean_test_score : [0.89969344 0.90576334 0.91112814 0.9131821  0.91330472 0.91213979]\n",
      "std_test_Score : [0.00319559 0.00233952 0.00376758 0.00130999 0.00139679 0.00095182]\n",
      "params: [{'max_depth': 2}, {'max_depth': 3}, {'max_depth': 4}, {'max_depth': 5}, {'max_depth': 6}, {'max_depth': 7}]\n"
     ]
    }
   ],
   "source": [
    "gini_parameters = {'max_depth':[2,3,4,5,6,7]}\n",
    "dt_gini_gsmodel = GridSearchCV(estimator=ds_tree_gini, param_grid = gini_parameters)\n",
    "dt_gini_gsmodel_result = dt_gini_gsmodel.fit(x_train,y_train)\n",
    "print(\"Best: %f using %s\" % (dt_gini_gsmodel_result.best_score_, dt_entr_gsmodel_result.best_params_))\n",
    "print('mean_test_score : %s' % (dt_gini_gsmodel_result.cv_results_['mean_test_score']))\n",
    "print('std_test_Score : %s' % (dt_gini_gsmodel_result.cv_results_['std_test_score']))\n",
    "print('params: %s' %(dt_gini_gsmodel_result.cv_results_['params']))"
   ]
  },
  {
   "cell_type": "markdown",
   "metadata": {},
   "source": [
    "## Naive Baeys Classifier "
   ]
  },
  {
   "cell_type": "code",
   "execution_count": 100,
   "metadata": {},
   "outputs": [
    {
     "name": "stdout",
     "output_type": "stream",
     "text": [
      "0.8681790312691601\n"
     ]
    }
   ],
   "source": [
    "\n",
    "nb = GaussianNB()\n",
    "nb_result = nb.fit(x_train,y_train)\n",
    "nb_y_pred = nb.predict(x_test)\n",
    "print(accuracy_score(nb_y_pred,y_test))"
   ]
  },
  {
   "cell_type": "markdown",
   "metadata": {},
   "source": [
    "## Stochastic Gradient Descent<br>"
   ]
  },
  {
   "cell_type": "code",
   "execution_count": 101,
   "metadata": {},
   "outputs": [
    {
     "name": "stdout",
     "output_type": "stream",
     "text": [
      "0.8936848559166156\n"
     ]
    }
   ],
   "source": [
    "\n",
    "sgd = SGDClassifier(loss='modified_huber',shuffle=True,random_state=42)\n",
    "sgd.fit(x_train,y_train)\n",
    "sgd_y_pred = sgd.predict(x_test)\n",
    "print(accuracy_score(sgd_y_pred,y_test))"
   ]
  },
  {
   "cell_type": "markdown",
   "metadata": {},
   "source": [
    "## k-nearest neighbors"
   ]
  },
  {
   "cell_type": "code",
   "execution_count": 102,
   "metadata": {},
   "outputs": [
    {
     "name": "stdout",
     "output_type": "stream",
     "text": [
      "0.9011649294911097\n"
     ]
    }
   ],
   "source": [
    "\n",
    "knn = KNeighborsClassifier(n_neighbors=5)\n",
    "knn.fit(x_train,y_train)\n",
    "knn_y_pred = knn.predict(x_test)\n",
    "print(accuracy_score(knn_y_pred,y_test))"
   ]
  },
  {
   "cell_type": "code",
   "execution_count": 103,
   "metadata": {},
   "outputs": [
    {
     "name": "stdout",
     "output_type": "stream",
     "text": [
      "Best: 0.907020 using {'n_neighbors': 15}\n",
      "mean_test_score : [0.90564071 0.9060699  0.9063458  0.90674433 0.90619252 0.90702023\n",
      " 0.90613121 0.90652974 0.90652974 0.90573268]\n",
      "std_test_Score : [0.00235194 0.00139274 0.00227144 0.00146893 0.00225692 0.0016181\n",
      " 0.00103325 0.00124676 0.0014522  0.00180063]\n",
      "params: [{'n_neighbors': 10}, {'n_neighbors': 11}, {'n_neighbors': 12}, {'n_neighbors': 13}, {'n_neighbors': 14}, {'n_neighbors': 15}, {'n_neighbors': 16}, {'n_neighbors': 17}, {'n_neighbors': 18}, {'n_neighbors': 19}]\n"
     ]
    }
   ],
   "source": [
    "knn_parameters = {'n_neighbors': range(10,20)}\n",
    "knn_gsmodel = GridSearchCV(estimator=KNeighborsClassifier(), param_grid = knn_parameters)\n",
    "knn_gsmodel_result = knn_gsmodel.fit(x_train,y_train)\n",
    "print(\"Best: %f using %s\" % (knn_gsmodel_result.best_score_, knn_gsmodel_result.best_params_))\n",
    "print('mean_test_score : %s' % (knn_gsmodel_result.cv_results_['mean_test_score']))\n",
    "print('std_test_Score : %s' % (knn_gsmodel_result.cv_results_['std_test_score']))\n",
    "print('params: %s' %(knn_gsmodel_result.cv_results_['params']))"
   ]
  },
  {
   "cell_type": "code",
   "execution_count": 104,
   "metadata": {},
   "outputs": [],
   "source": [
    "## Random Forest "
   ]
  },
  {
   "cell_type": "code",
   "execution_count": 105,
   "metadata": {},
   "outputs": [
    {
     "name": "stdout",
     "output_type": "stream",
     "text": [
      "0.9144083384426732\n"
     ]
    }
   ],
   "source": [
    "\n",
    "rfm = RandomForestClassifier(n_estimators=20,oob_score=True,n_jobs=1,random_state=42,max_features=None,min_samples_leaf=10)\n",
    "rfm.fit(x_train,y_train)\n",
    "rfm_y_pred = rfm.predict(x_test)\n",
    "print(accuracy_score(rfm_y_pred,y_test))"
   ]
  },
  {
   "cell_type": "code",
   "execution_count": 106,
   "metadata": {},
   "outputs": [
    {
     "name": "stdout",
     "output_type": "stream",
     "text": [
      "Best: 0.915297 using {'n_estimators': 90}\n",
      "mean_test_score : [0.91489884 0.91529736 0.91517474]\n",
      "std_test_Score : [0.00127656 0.00109935 0.0009125 ]\n",
      "params: [{'n_estimators': 80}, {'n_estimators': 90}, {'n_estimators': 100}]\n"
     ]
    }
   ],
   "source": [
    "rfm_parameters = {'n_estimators': [80,90,100]}\n",
    "rfm_gsmodel = GridSearchCV(estimator=RandomForestClassifier(oob_score=True,n_jobs=1,random_state=42,max_features=None,min_samples_leaf=10), param_grid = rfm_parameters)\n",
    "rfm_gsmodel_result = rfm_gsmodel.fit(x_train,y_train)\n",
    "print(\"Best: %f using %s\" % (rfm_gsmodel_result.best_score_, rfm_gsmodel_result.best_params_))\n",
    "print('mean_test_score : %s' % (rfm_gsmodel_result.cv_results_['mean_test_score']))\n",
    "print('std_test_Score : %s' % (rfm_gsmodel_result.cv_results_['std_test_score']))\n",
    "print('params: %s' %(rfm_gsmodel_result.cv_results_['params']))"
   ]
  },
  {
   "cell_type": "code",
   "execution_count": 107,
   "metadata": {},
   "outputs": [
    {
     "data": {
      "text/plain": [
       "RandomForestClassifier(max_features=None, min_samples_leaf=10, n_estimators=90,\n",
       "                       n_jobs=1, oob_score=True, random_state=42)"
      ]
     },
     "execution_count": 107,
     "metadata": {},
     "output_type": "execute_result"
    }
   ],
   "source": [
    "rfm_gsmodel_result.best_estimator_"
   ]
  },
  {
   "cell_type": "code",
   "execution_count": 108,
   "metadata": {},
   "outputs": [
    {
     "name": "stdout",
     "output_type": "stream",
     "text": [
      "0.91477621091355\n"
     ]
    }
   ],
   "source": [
    "\n",
    "vote_classify = VotingClassifier(estimators=[\n",
    "    ('log_be', log_gsmodel_result.best_estimator_), # Logistic Regression\n",
    "    ('dt_entr_be', dt_entr_gsmodel_result.best_estimator_), #Decision tree entropy\n",
    "    ('dt_gini_be', dt_gini_gsmodel_result.best_estimator_), #Decision tree Gini\n",
    "    ('nb_be', nb), #Naive bayes\n",
    "    ('sgd_be', sgd), #Stocastic Gradient Descent\n",
    "    ('knn_be', knn_gsmodel_result.best_estimator_), #K-nearest Neighbors\n",
    "    ('rfm_be', rfm_gsmodel_result.best_estimator_)], voting='soft') # Random Forest\n",
    "vote_classify_model = vote_classify.fit(x_train, y_train)\n",
    "vote_classify_ypred = vote_classify_model.predict(x_test)\n",
    "print(accuracy_score(vote_classify_ypred,y_test))"
   ]
  },
  {
   "cell_type": "code",
   "execution_count": 109,
   "metadata": {},
   "outputs": [
    {
     "name": "stdout",
     "output_type": "stream",
     "text": [
      "[[7140  561]\n",
      " [ 134  320]]\n"
     ]
    }
   ],
   "source": [
    "\n",
    "print(confusion_matrix(vote_classify_ypred,y_test))"
   ]
  },
  {
   "cell_type": "markdown",
   "metadata": {},
   "source": [
    "7058(correctly predicted 0) + 216(Falsely predicted 0) = 7274 (total 0) <br>\n",
    "424(correctly predicted 1) + 457(Falsely predicted 1) = 881 (total 1)<br>\n",
    "we are able to predict almost half of positive deposits! and predict fairly well who wont deposit. This will help navigate between the groups for better turn over."
   ]
  },
  {
   "cell_type": "code",
   "execution_count": 110,
   "metadata": {},
   "outputs": [
    {
     "name": "stdout",
     "output_type": "stream",
     "text": [
      "              precision    recall  f1-score   support\n",
      "\n",
      "           0       0.98      0.93      0.95      7701\n",
      "           1       0.36      0.70      0.48       454\n",
      "\n",
      "    accuracy                           0.91      8155\n",
      "   macro avg       0.67      0.82      0.72      8155\n",
      "weighted avg       0.95      0.91      0.93      8155\n",
      "\n"
     ]
    }
   ],
   "source": [
    "\n",
    "print(classification_report(vote_classify_ypred,y_test))"
   ]
  },
  {
   "cell_type": "code",
   "execution_count": 111,
   "metadata": {},
   "outputs": [],
   "source": [
    "fpr, tpr, _ =  roc_curve(y_test,vote_classify_model.predict_proba(x_test)[:,1])\n",
    "roc_auc = auc(fpr,tpr)"
   ]
  },
  {
   "cell_type": "code",
   "execution_count": 112,
   "metadata": {},
   "outputs": [
    {
     "data": {
      "image/png": "[encoded data removed]",
      "text/plain": [
       "<Figure size 432x288 with 1 Axes>"
      ]
     },
     "metadata": {
      "needs_background": "light"
     },
     "output_type": "display_data"
    }
   ],
   "source": [
    "plt.figure()\n",
    "lw = 2\n",
    "plt.plot(fpr, tpr, color='darkorange',\n",
    "         lw=lw, label = 'ROC curve (area = %0.3f)' % (roc_auc))\n",
    "plt.plot([0, 1], [0, 1], color='navy', lw=lw, linestyle='--')\n",
    "plt.xlabel('False Positive Rate')\n",
    "plt.ylabel('True Positive Rate')\n",
    "plt.title('Receiver operating characteristic example')\n",
    "plt.legend(loc=\"lower right\")\n",
    "plt.show()"
   ]
  },
  {
   "cell_type": "code",
   "execution_count": 113,
   "metadata": {},
   "outputs": [
    {
     "data": {
      "text/plain": [
       "Index(['age', 'duration', 'campaign', 'previous', 'emp.var.rate',\n",
       "       'cons.price.idx', 'cons.conf.idx', 'euribor3m', 'nr.employed',\n",
       "       'job_admin', 'job_bluecollar', 'job_entrepreneur', 'job_housemaid',\n",
       "       'job_management', 'job_retired', 'job_selfemployed', 'job_services',\n",
       "       'job_student', 'job_technician', 'job_unemployed', 'marital_divorced',\n",
       "       'marital_married', 'marital_single', 'education_basic',\n",
       "       'education_highschool', 'education_illiterate',\n",
       "       'education_professionalcourse', 'education_universitydegree',\n",
       "       'housing_no', 'housing_yes', 'loan_no', 'loan_yes', 'month_apr',\n",
       "       'month_aug', 'month_dec', 'month_jul', 'month_jun', 'month_mar',\n",
       "       'month_may', 'month_nov', 'month_oct', 'month_sep', 'day_of_week_fri',\n",
       "       'day_of_week_mon', 'day_of_week_thu', 'day_of_week_tue',\n",
       "       'day_of_week_wed', 'poutcome_failure', 'poutcome_nonexistent',\n",
       "       'poutcome_success'],\n",
       "      dtype='object')"
      ]
     },
     "execution_count": 113,
     "metadata": {},
     "output_type": "execute_result"
    }
   ],
   "source": [
    "X.columns"
   ]
  },
  {
   "cell_type": "code",
   "execution_count": 120,
   "metadata": {},
   "outputs": [
    {
     "data": {
      "image/png": "[encoded data removed]",
      "text/plain": [
       "<Figure size 1080x360 with 1 Axes>"
      ]
     },
     "metadata": {
      "needs_background": "light"
     },
     "output_type": "display_data"
    }
   ],
   "source": [
    "plt.figure(figsize=(15,5))\n",
    "plt.bar(X.columns,rfm_gsmodel_result.best_estimator_.feature_importances_)\n",
    "plt.xticks(X.columns,rotation='vertical')\n",
    "plt.show()"
   ]
  },
  {
   "cell_type": "markdown",
   "metadata": {},
   "source": [
    "# Conclusion\n",
    "\n",
    "From our extensive analysis, we have learnt many things. <br>\n",
    "\n",
    "Top take aways are:<br>\n",
    "- Duration has a huge impact on the outcome. The more the customer is engaged, the more the probability he/she would make a deposit.<br>\n",
    "- The state of the country's economy plays a huge role. The better the economy the more willing are customers to make a deposit. So campaigns should be targeted during this period. October being one such month is this financial year.<br>\n",
    "- People in blue-collor jobs, admins, technitians are more probable to make a deposit.<br>\n",
    "- Customers with good background education are more likely to do well financially and would have the mind set to save. University degree or higher degree holders are more likely to deposit.<br>"
   ]
  },
  {
   "cell_type": "code",
   "execution_count": null,
   "metadata": {},
   "outputs": [],
   "source": []
  }
 ],
 "metadata": {
  "kernelspec": {
   "display_name": "Python 3",
   "language": "python",
   "name": "python3"
  },
  "language_info": {
   "codemirror_mode": {
    "name": "ipython",
    "version": 3
   },
   "file_extension": ".py",
   "mimetype": "text/x-python",
   "name": "python",
   "nbconvert_exporter": "python",
   "pygments_lexer": "ipython3",
   "version": "3.8.3"
  }
 },
 "nbformat": 4,
 "nbformat_minor": 4
}
