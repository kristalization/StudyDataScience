{
 "cells": [
  {
   "cell_type": "code",
   "execution_count": 13,
   "metadata": {},
   "outputs": [],
   "source": [
    "import pandas as pd\n",
    "import numpy as np\n",
    "import os\n",
    "from sklearn.preprocessing import StandardScaler\n",
    "import warnings\n",
    "warnings.filterwarnings('ignore')\n",
    "\n",
    "from sklearn.model_selection import train_test_split\n",
    "from sklearn.svm import SVC\n",
    "from sklearn.metrics import accuracy_score"
   ]
  },
  {
   "cell_type": "code",
   "execution_count": 14,
   "metadata": {},
   "outputs": [
    {
     "data": {
      "text/plain": [
       "array([[-1.73200833,  1.53307493,  0.02695841, ..., -0.34102424,\n",
       "         0.39974677, -0.18645954],\n",
       "       [-1.73192337,  1.62899827, -0.44395837, ..., -0.34102424,\n",
       "         0.39974677, -0.18645954],\n",
       "       [-1.73183842, -0.28946853, -0.12020309, ..., -0.34102424,\n",
       "         0.39974677, -0.18645954],\n",
       "       ...,\n",
       "       [ 1.73183842,  1.53307493, -0.27577381, ..., -0.34102424,\n",
       "         0.39974677, -0.18645954],\n",
       "       [ 1.73192337,  0.38199485,  0.78799356, ..., -0.34102424,\n",
       "         0.39974677, -0.18645954],\n",
       "       [ 1.73200833,  3.25969505, -0.0655431 , ...,  2.93234286,\n",
       "        -2.50158369, -0.18645954]])"
      ]
     },
     "execution_count": 14,
     "metadata": {},
     "output_type": "execute_result"
    }
   ],
   "source": [
    "bank_one_hot_data = pd.read_csv(os.getcwd()+'\\\\One_hot_encoded.csv')\n",
    "X = bank_one_hot_data.drop(columns=['y_yes'])\n",
    "y = bank_one_hot_data['y_yes']\n",
    "ssc = StandardScaler(with_mean=True,with_std=True)\n",
    "ssc.fit_transform(X)"
   ]
  },
  {
   "cell_type": "code",
   "execution_count": 15,
   "metadata": {},
   "outputs": [],
   "source": [
    "x_discarded, x_chosen, y_discarded, y_chosen = train_test_split(X,y,test_size=0.1,random_state=42)"
   ]
  },
  {
   "cell_type": "code",
   "execution_count": 16,
   "metadata": {},
   "outputs": [],
   "source": [
    "x_train, x_test, y_train, y_test = train_test_split(x_chosen,y_chosen,test_size=0.25,random_state=42)"
   ]
  },
  {
   "cell_type": "code",
   "execution_count": 17,
   "metadata": {},
   "outputs": [
    {
     "name": "stdout",
     "output_type": "stream",
     "text": [
      "linear: 0.9137254901960784\n"
     ]
    }
   ],
   "source": [
    "#Linear svm\n",
    "svc_linear = SVC(kernel='linear', gamma='auto')\n",
    "svc_linear.fit(x_train,y_train)\n",
    "svc_linear_y_pred = svc_linear.predict(x_test)\n",
    "print('linear: %s' %(accuracy_score(svc_linear_y_pred,y_test)))"
   ]
  },
  {
   "cell_type": "code",
   "execution_count": null,
   "metadata": {},
   "outputs": [],
   "source": [
    "#quadratic svm \n",
    "svc_quadratic = SVC(kernel='poly',degree=2, gamma='auto')\n",
    "svc_quadratic.fit(x_train,y_train)\n",
    "svc_quadratic_y_pred = svc_quadratic.predict(x_test)\n",
    "print('quadratic: %s' %(accuracy_score(svc_quadratic_y_pred,y_test)))"
   ]
  },
  {
   "cell_type": "code",
   "execution_count": null,
   "metadata": {},
   "outputs": [],
   "source": [
    "#cubic svm\n",
    "svc_cubic = SVC(kernel='poly',degree=3, gamma='auto')\n",
    "svc_cubic.fit(x_train,y_train)\n",
    "svc_cubic_y_pred = svc_cubic.predict(x_test)\n",
    "print('cubic: %s' %(accuracy_score(svc_cubic_y_pred,y_test)))"
   ]
  }
 ],
 "metadata": {
  "kernelspec": {
   "display_name": "Python 3",
   "language": "python",
   "name": "python3"
  },
  "language_info": {
   "codemirror_mode": {
    "name": "ipython",
    "version": 3
   },
   "file_extension": ".py",
   "mimetype": "text/x-python",
   "name": "python",
   "nbconvert_exporter": "python",
   "pygments_lexer": "ipython3",
   "version": "3.8.3"
  }
 },
 "nbformat": 4,
 "nbformat_minor": 4
}
